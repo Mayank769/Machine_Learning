{
 "cells": [
  {
   "cell_type": "markdown",
   "metadata": {},
   "source": [
    "# ARTIFICIAL NEURAL NETWORK"
   ]
  },
  {
   "cell_type": "markdown",
   "metadata": {},
   "source": [
    "## About this Assignment and Explaination\n",
    "\n",
    "This Assignment is related to Neural Network with backpropagation for multi class classification. In this assignment, neural network model is trained with three different dataset i.e. Digits, Alphabets, and XOR .Details of which are discussed in their respective cells.\n",
    "\n",
    "### Neural Network Model:\n",
    "The general methodology to build a Neural Network is to:\n",
    "1. Define the neural network structure ( # of input units,  # of hidden units, etc).\n",
    "<blockquote>In this Assignment, model consist of three layers:\n",
    "<blockquote> 1. Input Layer: The size of this layer depends on the number of features of input.<br>\n",
    "             2. Hidden Layer: The size of this layer can be decided on our own.<br>\n",
    "             3. Output Layer: The size of this layer depends on number of classes<br>\n",
    "</blockquote></blockquote>\n",
    "\n",
    "2. Initialize the model's parameters:\n",
    "<blockquote>Since we are dealing with three layer, so we need weight W1,bias b1 (whose dimensions are discussed in respective cell)for layers between input and hidden layer, and weight W2,bias b2 (dimensions are discussed in respective cell) for layers between hidden layer and output layer.After deciding the dimensions, these parameters are initialised with some small random values.\n",
    "</blockquote>\n",
    "\n",
    "3. Loop for fixed number of iteration:\n",
    "<blockquote>\n",
    "    1. Implement Forward Propagation:\n",
    "    <blockquote>Forward Propagation is calculating the values for next layers nodes using previous input,weights and bias.\n",
    "        Z represent the value before applying activation function(sigmoid/softmax) and A repesents the value after applying activation function.So, Z = weight . previous_input + bias and A = function(Z) where function is sigmoid for hidden layer and softmax for outer layer.Reason for respective case is explained in their respective cells.\n",
    "    </blockquote>\n",
    "    2. Compute Cost:\n",
    "    <blockquote>Cost function selected in this assignment is Cross Entropy Loss whose formula is given where this function is implemented.\n",
    "    </blockquote>\n",
    "    3. Implement backward propagation to get the gradients:\n",
    "    <blockquote> Backward propagation gives the gradients with respect to all weights and bias.Gradients calculation with respect to  parameters is little complicated.So, to generalize we take derivative of Output with respect to Z and then take derivative of Z with respect to W. Derivative of softmax with cross-entropy loss is given in this link: <br>    https://deepnotes.io/softmax-crossentropy  \n",
    "    </blockquote>\n",
    "    4. Update Parameters:\n",
    "    <blockquote>After getting the gradients with respect to parameters, its time to update these parameters with help of its gradients.\n",
    "    </blockquote>\n",
    "</blockquote>\n",
    "\n",
    "    "
   ]
  },
  {
   "cell_type": "markdown",
   "metadata": {},
   "source": [
    "## Importing Required libraries"
   ]
  },
  {
   "cell_type": "code",
   "execution_count": 1,
   "metadata": {},
   "outputs": [],
   "source": [
    "import numpy as np                  # For handling Arrays\n",
    "import pandas as pd                 # For handling DataFrames\n",
    "import matplotlib.pyplot as plt     # For visualizing images\n",
    "from sklearn import datasets        # Import datasets from Sklearn"
   ]
  },
  {
   "cell_type": "markdown",
   "metadata": {},
   "source": [
    "## All Important functions to be used in this Assignment including NN Model"
   ]
  },
  {
   "cell_type": "code",
   "execution_count": 2,
   "metadata": {},
   "outputs": [],
   "source": [
    "\"\"\"\n",
    "    Function Name: one_hot\n",
    "    \n",
    "    Arguments:\n",
    "        A -- Labels of shape (number of examples,1)\n",
    "        num_classes -- number of classes\n",
    "    \n",
    "    Returns:\n",
    "        Converted -- vector which is one hot coded of \n",
    "                     dimension (number of examples,number of classes)\n",
    "        \n",
    "    Reason:\n",
    "        Since we are dealing with Multi Class neural network which gives Output of \n",
    "        dimension (number of examples,number of classes) with probabilty values of\n",
    "        each classes ,So to calculate cost we need same kind Actual Output Dimension\n",
    "        matrix ,hence we are converting into one hot coded mtrix.\n",
    "\"\"\"\n",
    "def one_hot(A, num_classes):\n",
    "    Identity_matrix = np.eye(num_classes)          # Converting into identity matrix\n",
    "    Converted = Identity_matrix[A.reshape(-1)]     # Converting into one hot coded vector\n",
    "    Converted = np.squeeze(Converted)              # Reducing the extra dimension if have\n",
    "    return Converted"
   ]
  },
  {
   "cell_type": "code",
   "execution_count": 3,
   "metadata": {},
   "outputs": [],
   "source": [
    "\"\"\"\n",
    "    Function Name: Normalization\n",
    "    \n",
    "    Arguments:\n",
    "        X -- Input matrix of shape (number of examples,number of features)\n",
    "        \n",
    "    Returns:\n",
    "        X_Norm -- Normalized matrix of shape (number of examples,number of features)\n",
    "        \n",
    "    Reason:\n",
    "        Normalization is done to keep the all the values in the same range.\n",
    "        This normalization is not generalized one as it is Specifically designed for \n",
    "        this assignment as we are dealing with images which when converted into numbers/\n",
    "        pixels ,the values are in the range of 0 to 255 .So, to bring in range of 0 to 1,\n",
    "        it is divided by 255.\n",
    "\"\"\"\n",
    "def Normalization(X):\n",
    "    X_Norm = X/255      # Dividing by 255 (maximum value of pixels)\n",
    "    return X_Norm"
   ]
  },
  {
   "cell_type": "code",
   "execution_count": 4,
   "metadata": {},
   "outputs": [],
   "source": [
    "\"\"\"\n",
    "    Function Name: layer_sizes\n",
    "    \n",
    "    Arguments:\n",
    "        X -- Input matrix of shape (number of examples,number of features)\n",
    "        Y -- Labels of shape (number of examples,number of classes)\n",
    "    \n",
    "    Returns:\n",
    "        n_x -- number of units in input layer\n",
    "        n_y -- number of units in output layer\n",
    "    Reason:\n",
    "        To make Our Assignment more Modular , this extra function is used \n",
    "        to send number of units in input layer and number of units in output \n",
    "        layer\n",
    "\"\"\"\n",
    "def layer_sizes(X, Y):\n",
    "    n_x =  X.shape[1]         # size of input layer\n",
    "    n_y =  Y.shape[1]         # size of output layer\n",
    "    return (n_x,n_y)"
   ]
  },
  {
   "cell_type": "code",
   "execution_count": 5,
   "metadata": {},
   "outputs": [],
   "source": [
    "\"\"\"\n",
    "    Function Name: initialize_parameters\n",
    "    \n",
    "    Arguments:\n",
    "        n_x -- number of units in input layer\n",
    "        n_h -- number of units in hidden layer\n",
    "        n_y -- number of units in output layer\n",
    "    \n",
    "    Returns:\n",
    "        parameters -- python dictionary containing our parameters:\n",
    "                      W1 -- weight matrix of shape (n_h, n_x)\n",
    "                      b1 -- bias vector of shape (n_h, 1)\n",
    "                      W2 -- weight matrix of shape (n_y, n_h)\n",
    "                      b2 -- bias vector of shape (n_y, 1)\n",
    "    Reason:\n",
    "        To initialize all the parameters with small random values \n",
    "        which are normally distributed (randn is used for that) \n",
    "\"\"\"\n",
    "def initialize_parameters(n_x, n_h, n_y):\n",
    "    W1 = np.random.randn(n_h,n_x) \n",
    "    b1 = np.zeros((n_h,1))\n",
    "    W2 = np.random.randn(n_y,n_h)\n",
    "    b2 = np.zeros((n_y,1))\n",
    "    \n",
    "    parameters = {\"W1\": W1,\n",
    "                  \"b1\": b1,\n",
    "                  \"W2\": W2,\n",
    "                  \"b2\": b2}\n",
    "    \n",
    "    return parameters"
   ]
  },
  {
   "cell_type": "code",
   "execution_count": 6,
   "metadata": {},
   "outputs": [],
   "source": [
    "\"\"\"\n",
    "    Function Name: sigmoid\n",
    "\n",
    "    Arguments:\n",
    "        x -- A scalar or numpy array of any size.\n",
    "\n",
    "    Return:\n",
    "        s -- sigmoid(x)\n",
    "    Reason:\n",
    "        To compute the sigmoid as it is one of the activation function to be\n",
    "        used in hidden layers which brings values in range 0 to 1\n",
    "\"\"\"\n",
    "def sigmoid(x):\n",
    "    return 1/(1+np.exp(-x))"
   ]
  },
  {
   "cell_type": "code",
   "execution_count": 7,
   "metadata": {},
   "outputs": [],
   "source": [
    "\"\"\"\n",
    "    Function Name: softmax\n",
    "\n",
    "    Arguments:\n",
    "        A -- matrix of dimension (number of classes,number of examples)\n",
    "\n",
    "    Return:\n",
    "        s -- softmax(x)\n",
    "    Reason:\n",
    "        Softmax function gives probabilty of each classes.So, used in\n",
    "        Output layer of multi class neural network so that we can get\n",
    "        the probabilty of occurence of each class.\n",
    "        This function is specifically designed for this Neural network,\n",
    "        because it takes input of dimension (number of classes,number of example)\n",
    "        So, sum should be done as per axis = 0\n",
    "\"\"\"\n",
    "def softmax(A):\n",
    "    expA = np.exp(A)\n",
    "    return expA / expA.sum(axis=0, keepdims=True)"
   ]
  },
  {
   "cell_type": "code",
   "execution_count": 8,
   "metadata": {},
   "outputs": [],
   "source": [
    "\"\"\"\n",
    "    Function Name: forward_propagation\n",
    "    \n",
    "    Argument:\n",
    "        X -- input matrix of size ( m,n_x )\n",
    "        parameters -- python dictionary containing your parameters \n",
    "                       (output of initialization function)\n",
    "    \n",
    "    Returns:\n",
    "        cache -- python dictionary containing:\n",
    "                 Z1 -- matrix of shape (n_h, m)\n",
    "                 A1 -- matrix of shape (n_h, m)\n",
    "                 Z2 -- matrix of shape (n_y, m)\n",
    "                 A2 -- matrix of shape (n_y, m)\n",
    "    Reason:\n",
    "        This Function is required to do forward proapagation to calcluate \n",
    "        the probability of the respective classes.\n",
    "\"\"\"\n",
    "def forward_propagation(X, parameters):\n",
    "    \n",
    "    # Retrieve each parameter from the dictionary \"parameters\"\n",
    "    W1 = parameters['W1']\n",
    "    b1 = parameters['b1']\n",
    "    W2 = parameters['W2']\n",
    "    b2 = parameters['b2']\n",
    "\n",
    "    # Implement Forward Propagation to calculate A2 (probabilities)\n",
    "    Z1 = W1 @ X.T + b1\n",
    "    A1 = sigmoid(Z1)\n",
    "    Z2 = W2 @ A1 + b2\n",
    "    A2 = softmax(Z2)\n",
    "    \n",
    "    # filling the dictionary\n",
    "    cache = {\"Z1\": Z1,\n",
    "             \"A1\": A1,\n",
    "             \"Z2\": Z2,\n",
    "             \"A2\": A2}\n",
    "    \n",
    "    return cache"
   ]
  },
  {
   "cell_type": "code",
   "execution_count": 9,
   "metadata": {},
   "outputs": [],
   "source": [
    "\"\"\"\n",
    "    Function Name: compute_cost\n",
    "    \n",
    "    Arguments:\n",
    "        A2 -- The softmax/categorical output of output layer, \n",
    "                of shape (number of classes, number of examples)\n",
    "        Y -- \"true\" labels one-hot matrix of shape \n",
    "                ( number of examples,number of classes )\n",
    "    \n",
    "    Returns:\n",
    "        cost -- cross-entropy cost / MSE for perceptron\n",
    "    \n",
    "    Reason:\n",
    "        In this assignment, I used Cross-entropy loss, or log loss, as a \n",
    "        cost function which measures the performance of a classification \n",
    "        model whose output is a probability value between 0 and 1.Since, \n",
    "        this model gives output as probabilties of classes, we used this.\n",
    "        Cross-entropy loss increases as the predicted probability diverges\n",
    "        from the actual label.It is represented as \n",
    "        C = -sum of p,a in P,A ( a * log(p))\n",
    "        where P is predicted and A is actual.\n",
    "    \n",
    "\"\"\"\n",
    "def compute_cost(A2, Y):\n",
    "    \n",
    "    m = Y.shape[0]                       # number of example\n",
    "\n",
    "    # Compute the cross-entropy cost\n",
    "    logprobs = np.multiply(np.log(A2.T),Y)\n",
    "        \n",
    "    cost = - np.sum(logprobs)/m          # Summing up the error and dividing by m\n",
    "    \n",
    "    cost = float(np.squeeze(cost))       # making sure cost is the dimension we expect. \n",
    "                                         # E.g., turns [[17]] into 17 \n",
    "    \n",
    "    return cost"
   ]
  },
  {
   "cell_type": "code",
   "execution_count": 10,
   "metadata": {},
   "outputs": [],
   "source": [
    "\"\"\"\n",
    "    Function Name: backward_propagation\n",
    "    \n",
    "    Arguments:\n",
    "        parameters -- python dictionary containing our parameters \n",
    "        cache      -- a dictionary containing \"Z1\", \"A1\", \"Z2\" and \"A2\".\n",
    "        X          -- input matrix of shape (number of examples,number of features)\n",
    "        Y          -- \"true\" labels matrix of shape (number of examples,number of classes)\n",
    "    \n",
    "    Returns:\n",
    "        grads --  python dictionary containing gradients with respect to parameters\n",
    "                 dW1 -- matrix of shape (n_h, n_x)\n",
    "                 db1 -- matrix of shape (n_h, 1)\n",
    "                 dW2 -- matrix of shape (n_y, n_h)\n",
    "                 db2 -- matrix of shape (n_y, 1)\n",
    "    \n",
    "    Reason:\n",
    "        We need back propagation to update the parameters as per error we face in \n",
    "        different layers. Depending on the cost function took gradient of outer layer\n",
    "        changes but gradients of inner layer won't change as we use sigmoid function \n",
    "        for hidden layers.\n",
    "        \n",
    "        \n",
    "\"\"\"\n",
    "def backward_propagation(parameters, cache, X, Y):\n",
    "    m = X.shape[0]\n",
    "    \n",
    "    # First, retrieve W1 and W2 from the dictionary \"parameters\".\n",
    "    W1 = parameters['W1']\n",
    "    W2 = parameters['W2']\n",
    "        \n",
    "    # Retrieve also A1 and A2 from dictionary \"cache\".\n",
    "    A1 = cache['A1']\n",
    "    A2 = cache['A2']\n",
    "\n",
    "    # Backward propagation: calculate dW1, db1, dW2, db2. \n",
    "    dZ2 = A2-Y.T                                # derivative with respect to Z2 i.e. o/p before activation in final o/p\n",
    "    dW2 = (dZ2 @ A1.T)/m                        # derivative with respect to W2 i.e. weights of o/p layer\n",
    "    db2 = np.sum(dZ2,axis=1,keepdims=True)/m    # derivative with respect to b2 i.e. bias of o/p layer\n",
    "    dZ1 = (W2.T @ dZ2) * (A1 * (1-A1))          # derivative with respect to Z1 i.e. o/p before activation after first hidden\n",
    "    dW1 = (dZ1 @ X)/m                           # derivative with respect to W1 i.e. weights of hidden layer\n",
    "    db1 = np.sum(dZ1,axis=1,keepdims=True)/m    # derivative with respect to b1 i.e. bias of hidden layer\n",
    "    \n",
    "    grads = {\"dW1\": dW1,\n",
    "             \"db1\": db1,\n",
    "             \"dW2\": dW2,\n",
    "             \"db2\": db2}\n",
    "    \n",
    "    return grads"
   ]
  },
  {
   "cell_type": "code",
   "execution_count": 11,
   "metadata": {},
   "outputs": [],
   "source": [
    "\"\"\"\n",
    "    Function Name: updates_parameters\n",
    "    \n",
    "    Arguments:\n",
    "        parameters    -- python dictionary containing your parameters \n",
    "        grads         -- python dictionary containing your gradients \n",
    "        learning_rate -- initialised to 0.1\n",
    "    \n",
    "    Returns:\n",
    "        parameters -- python dictionary containing your updated parameters\n",
    "    \n",
    "    Reason:\n",
    "        We need to update parameters as per the error we recieved in the output.\n",
    "\"\"\"\n",
    "def update_parameters(parameters, grads, learning_rate = 0.1):\n",
    "    # Retrieve each parameter from the dictionary \"parameters\"\n",
    "    W1 = parameters['W1']\n",
    "    b1 = parameters['b1']\n",
    "    W2 = parameters['W2']\n",
    "    b2 = parameters['b2']\n",
    "    \n",
    "    # Retrieve each gradient from the dictionary \"grads\"\n",
    "    dW1 = grads['dW1']\n",
    "    db1 = grads['db1']\n",
    "    dW2 = grads['dW2']\n",
    "    db2 = grads['db2']\n",
    "    \n",
    "    # Update rule for each parameter\n",
    "    W1 = W1-learning_rate*dW1\n",
    "    b1 = b1-learning_rate*db1\n",
    "    W2 = W2-learning_rate*dW2\n",
    "    b2 = b2-learning_rate*db2\n",
    "\n",
    "    \n",
    "    parameters = {\"W1\": W1,\n",
    "                  \"b1\": b1,\n",
    "                  \"W2\": W2,\n",
    "                  \"b2\": b2}\n",
    "    \n",
    "    return parameters"
   ]
  },
  {
   "cell_type": "code",
   "execution_count": 12,
   "metadata": {},
   "outputs": [],
   "source": [
    "\"\"\"\n",
    "    Function Name: nn_model\n",
    "    \n",
    "    Arguments:\n",
    "        X              -- input dataset of shape (number of examples,number of features)\n",
    "        Y              -- labels of shape ( number of examples,number of classes)\n",
    "        n_h            -- size of the hidden layer\n",
    "        num_iterations -- Number of iterations in gradient descent loop\n",
    "        print_cost     -- if True, print the cost every 1000 iterations\n",
    "    \n",
    "    Returns:\n",
    "        parameters -- parameters learnt by the model.\n",
    "    \n",
    "    Reason:\n",
    "        This function is main Neural Network model which decides the number of units \n",
    "        in hidden layer , initializes weights and bias for network and run a loop of\n",
    "        gradient descent under which there is forward propagation ,cost computation,\n",
    "        backward propagation and updation of parameters.\n",
    "        This model has only one hidden layer ,and every function is made accordingly\n",
    "\"\"\"\n",
    "def nn_model(X, Y, n_h, num_iterations = 1000, print_cost=False):\n",
    "    n_x,n_y = layer_sizes(X, Y)\n",
    "    \n",
    "    # Initialize parameters\n",
    "    parameters = initialize_parameters(n_x, n_h, n_y)\n",
    "    \n",
    "    # Loop (gradient descent)\n",
    "    for i in range(0, num_iterations+1):\n",
    "        # Forward propagation. Inputs: \"X, parameters\". Outputs: \"A2, cache\".\n",
    "        cache = forward_propagation(X, parameters)\n",
    "        \n",
    "        # Cost function. Inputs: \"A2, Y, parameters\". Outputs: \"cost\".\n",
    "        cost = compute_cost(cache['A2'], Y)\n",
    " \n",
    "        # Backpropagation. Inputs: \"parameters, cache, X, Y\". Outputs: \"grads\".\n",
    "        grads = backward_propagation(parameters, cache, X, Y)\n",
    "        \n",
    "        # Gradient descent parameter update. Inputs: \"parameters, grads\". Outputs: \"parameters\".\n",
    "        parameters = update_parameters(parameters, grads)\n",
    "                \n",
    "        # Print the cost every 1000 iterations\n",
    "        if print_cost and i % 1000 == 0:\n",
    "            print (\"Cost after iteration %i: %f\" %(i, cost))\n",
    "\n",
    "    return parameters"
   ]
  },
  {
   "cell_type": "code",
   "execution_count": 13,
   "metadata": {},
   "outputs": [],
   "source": [
    "\"\"\"\n",
    "    Function Name: predict\n",
    "    \n",
    "    Arguments:\n",
    "        parameters -- python dictionary containing your parameters \n",
    "        X          -- input data of size (number of examples,number of features)\n",
    "    \n",
    "    Returns:\n",
    "        predictions -- A vector of shape (number of eaxmples,) which gives the \n",
    "                        prediction class \n",
    "    \n",
    "    Reason:\n",
    "        This function is required to predict classes for each examples in X\n",
    "    \n",
    "\"\"\"\n",
    "def predict(parameters, X):\n",
    "    \n",
    "    # Computes probabilities using forward propagation\n",
    "    cache = forward_propagation(X, parameters)\n",
    "    \n",
    "    # Retrieving A2 i.e the output matrix of shape (number of classes,number of examples) from cache\n",
    "    A2 =cache['A2']\n",
    "    \n",
    "    # taking the class with maximum probability\n",
    "    predictions = np.argmax(A2,axis=0)\n",
    "\n",
    "    return predictions"
   ]
  },
  {
   "cell_type": "code",
   "execution_count": 14,
   "metadata": {},
   "outputs": [],
   "source": [
    "\"\"\"\n",
    "    Function Name: Accuracy\n",
    "    \n",
    "    Arguments:\n",
    "        predicted  -- Predicted classes vector of shape (number of examples,) \n",
    "        Y          -- labels of shape ( number of examples,number of classes)\n",
    "    \n",
    "    Returns:\n",
    "        accuracy -- float value which gives accuracy\n",
    "    \n",
    "    Reason:\n",
    "        This function is required to calculate percentage of correctly \n",
    "        classified classes by training the Neural Network model\n",
    "    \n",
    "\"\"\"\n",
    "def Accuracy(predicted,Y):\n",
    "    c = 0                       # variable to store the count of correctly classified classes\n",
    "    m = Y.shape[0]\n",
    "    for i in range(m):\n",
    "        if(predicted[i]==np.argmax(Y[i])):\n",
    "            c+=1\n",
    "    return float(c/m)*100"
   ]
  },
  {
   "cell_type": "markdown",
   "metadata": {},
   "source": [
    "# A-Z Alphabet Dataset"
   ]
  },
  {
   "cell_type": "markdown",
   "metadata": {},
   "source": [
    "Link for the Alphabet dataset is:\n",
    "https://www.kaggle.com/sachinpatel21/az-handwritten-alphabets-in-csv-format?select=A_Z+Handwritten+Data.csv\n",
    "\n",
    "This A-Z Alphabet Dataset consist more than 3 Lakh examples in numerical/pixel form in csv format.\n",
    "This will take a lot of time to train and test. Since the accuracy doesn't matter for this assignment, so\n",
    "I decided to reduce the number of examples to 2600 with each class has 100 examples.\n",
    "\n",
    "So, code to reduce the data:\n",
    "***********************************************\n",
    "<code>\n",
    "data = pd.read_csv(\"A_Z_Handwritten_Data.csv\")\n",
    "data = np.array(data)\n",
    "\n",
    "Mdata=[]\n",
    "for i in range(26):\n",
    "    T=data[data[:,0]==i]\n",
    "    T=T[ np.random.choice( T.shape[0],100, False),:]\n",
    "    Mdata.extend(list(T))\n",
    "\n",
    "Mdata=np.array(Mdata)\n",
    "df=pd.DataFrame(Mdata)\n",
    "df.to_csv(\"Modified_Data.csv\",index=False)\n",
    "</code>\n",
    "\n",
    "************************************************\n",
    "New Modified Data is saved, Link to access the data is:\n",
    "***\n"
   ]
  },
  {
   "cell_type": "markdown",
   "metadata": {},
   "source": [
    "# About Modified Alphabet Dataset\n",
    "\n",
    "This Dataset consist of 2600 example with 100 examples for each 26 classes. \n",
    "This Dataset is in csv format which contains numerical values/pixel values of the images.\n",
    "Dimension of each image 28x28 i.e. 784 features that will be input to the NN model.\n",
    "This Dataset consist of 2600 rows and 785 column and first column represent the classes\n",
    "where 0 repersent 'A',1 represent 'B' and so on"
   ]
  },
  {
   "cell_type": "code",
   "execution_count": 15,
   "metadata": {},
   "outputs": [
    {
     "name": "stdout",
     "output_type": "stream",
     "text": [
      "Shape of Alph_data:  (2600, 785)\n"
     ]
    }
   ],
   "source": [
    "# Loading the dataset from csv file using Pandas DataFrame\n",
    "Alph_data = pd.read_csv(\"Modified_Data.csv\")\n",
    "\n",
    "print(\"Shape of Alph_data: \",Alph_data.shape)"
   ]
  },
  {
   "cell_type": "code",
   "execution_count": 16,
   "metadata": {},
   "outputs": [
    {
     "name": "stdout",
     "output_type": "stream",
     "text": [
      "Input Matrix of Shape:  (2600, 784)\n",
      "True Labels of Shape:  (2600, 1)\n"
     ]
    }
   ],
   "source": [
    "# Converting the DataFrame into numpy array\n",
    "Alph_data = np.array(Alph_data)\n",
    "\n",
    "# Separating into Input Matrix and True Labels\n",
    "X_Alph = Alph_data[:,1:785]\n",
    "Y_Alph = Alph_data[:,0:1]\n",
    "\n",
    "print(\"Input Matrix of Shape: \",X_Alph.shape)\n",
    "print(\"True Labels of Shape: \",Y_Alph.shape)"
   ]
  },
  {
   "cell_type": "code",
   "execution_count": 17,
   "metadata": {},
   "outputs": [
    {
     "name": "stdout",
     "output_type": "stream",
     "text": [
      "Correct Label:  C\n"
     ]
    },
    {
     "data": {
      "image/png": "[encoded data removed]",
      "text/plain": [
       "<Figure size 432x288 with 1 Axes>"
      ]
     },
     "metadata": {
      "needs_background": "light"
     },
     "output_type": "display_data"
    }
   ],
   "source": [
    "# Visualizing Data with the help of matplotlib imshow\n",
    "\n",
    "# Generating random index between 0 to number of samples\n",
    "n_samp = X_Alph.shape[0]\n",
    "rand_ind = np.random.randint(n_samp)\n",
    "\n",
    "plt.imshow(X_Alph[rand_ind].reshape(28,28),cmap=plt.cm.gray_r)\n",
    "\n",
    "# printing actual class after converting into char\n",
    "print(\"Correct Label: \",chr(Y_Alph[rand_ind]+65))"
   ]
  },
  {
   "cell_type": "code",
   "execution_count": 18,
   "metadata": {},
   "outputs": [
    {
     "name": "stdout",
     "output_type": "stream",
     "text": [
      "True Labels of Shape:  (2600, 26)\n"
     ]
    }
   ],
   "source": [
    "# Normalization done to bring all values in same range i.e. 0 to 1\n",
    "X_Alph = Normalization(X_Alph)\n",
    "\n",
    "# True Label vector is converted into one-hot coded vector (reason explained where function is declared..see above)\n",
    "Y_Alph = one_hot(Y_Alph,26)\n",
    "\n",
    "print(\"True Labels of Shape: \",Y_Alph.shape)"
   ]
  },
  {
   "cell_type": "code",
   "execution_count": 19,
   "metadata": {},
   "outputs": [
    {
     "name": "stdout",
     "output_type": "stream",
     "text": [
      "X-train :  (1819, 784)\n",
      "Y-train :  (1819, 26)\n",
      "X-test :  (781, 784)\n",
      "Y-test :  (781, 26)\n"
     ]
    }
   ],
   "source": [
    "# Shuffling the dataset\n",
    "m,n = X_Alph.shape\n",
    "l = [i for  i in range(0, m)]\n",
    "# Shuffling the Indexes\n",
    "np.random.shuffle(l)\n",
    "# Shuffling the Dataset according to Shuffled indexes\n",
    "X_Alph = X_Alph[l]\n",
    "Y_Alph = Y_Alph[l]\n",
    "\n",
    "partition = (int)( 0.7 * m)  # Partition index for dividing into training and testing dataset\n",
    "# Partitioning into training and testing dataset\n",
    "X_Alph_train = X_Alph[0:partition]\n",
    "Y_Alph_train = Y_Alph[0:partition]\n",
    "X_Alph_test  = X_Alph[partition:m]\n",
    "Y_Alph_test  = Y_Alph[partition:m]\n",
    "\n",
    "print(\"X-train : \",X_Alph_train.shape)\n",
    "print(\"Y-train : \",Y_Alph_train.shape)\n",
    "print(\"X-test : \",X_Alph_test.shape)\n",
    "print(\"Y-test : \",Y_Alph_test.shape)"
   ]
  },
  {
   "cell_type": "markdown",
   "metadata": {},
   "source": [
    "# Digit Dataset"
   ]
  },
  {
   "cell_type": "markdown",
   "metadata": {},
   "source": [
    "Digit Dataset is loaded from Sklearn Dataset which is named as load_digits\n",
    "This Dataset consist of 1797 example for each 26 classes. \n",
    "This Dataset is directly loaded from sklearn so images are given numerical values/pixel values\n",
    "and target which gives the class label for that image.\n",
    "Dimension of each image 8x8 i.e. 64 features that will be input to the NN model."
   ]
  },
  {
   "cell_type": "code",
   "execution_count": 20,
   "metadata": {},
   "outputs": [
    {
     "name": "stdout",
     "output_type": "stream",
     "text": [
      "Input Matrix of Shape:  (1797, 8, 8)\n",
      "Target Matrix of Shape:  (1797,)\n"
     ]
    }
   ],
   "source": [
    "# Loading the digits dataset\n",
    "digits = datasets.load_digits()\n",
    "\n",
    "# Separating Dataset into Input Matrix and its Label\n",
    "X_Dig = digits.images\n",
    "Y_Dig = digits.target\n",
    "\n",
    "print(\"Input Matrix of Shape: \",X_Dig.shape)\n",
    "print(\"Target Matrix of Shape: \",Y_Dig.shape)"
   ]
  },
  {
   "cell_type": "code",
   "execution_count": 21,
   "metadata": {},
   "outputs": [
    {
     "name": "stdout",
     "output_type": "stream",
     "text": [
      "Correct Label:  6\n"
     ]
    },
    {
     "data": {
      "image/png": "[encoded data removed]",
      "text/plain": [
       "<Figure size 432x288 with 1 Axes>"
      ]
     },
     "metadata": {
      "needs_background": "light"
     },
     "output_type": "display_data"
    }
   ],
   "source": [
    "# Total Number of Samples\n",
    "n_samples = len(digits.images)\n",
    "rand_ind = np.random.randint(n_samples)\n",
    "\n",
    "plt.imshow(X_Dig[rand_ind],cmap=plt.cm.gray_r)\n",
    "print(\"Correct Label: \",Y_Dig[rand_ind])"
   ]
  },
  {
   "cell_type": "code",
   "execution_count": 22,
   "metadata": {},
   "outputs": [
    {
     "name": "stdout",
     "output_type": "stream",
     "text": [
      "Input Matrix of Shape:  (1797, 64)\n",
      "Target Matrix of Shape:  (1797, 10)\n"
     ]
    }
   ],
   "source": [
    "# Reshaping into (number of samples,64)\n",
    "X_Dig = X_Dig.reshape((n_samples, -1))\n",
    "Y_Dig = one_hot(Y_Dig,10)\n",
    "\n",
    "print(\"Input Matrix of Shape: \",X_Dig.shape)\n",
    "print(\"Target Matrix of Shape: \",Y_Dig.shape)"
   ]
  },
  {
   "cell_type": "code",
   "execution_count": 23,
   "metadata": {},
   "outputs": [
    {
     "name": "stdout",
     "output_type": "stream",
     "text": [
      "X-train :  (1257, 64)\n",
      "Y-train :  (1257, 10)\n",
      "X-test :  (540, 64)\n",
      "Y-test :  (540, 10)\n"
     ]
    }
   ],
   "source": [
    "# Shuffling the dataset\n",
    "m,n = X_Dig.shape\n",
    "l = [i for  i in range(0, m)]\n",
    "# Shuffling the Indexes\n",
    "np.random.shuffle(l)\n",
    "# Shuffling the Dataset according to Shuffled indexes\n",
    "X_Dig = X_Dig[l]\n",
    "Y_Dig = Y_Dig[l]\n",
    "partition = (int)( 0.7 * m)  # Partition index for dividing into training and testing dataset\n",
    "# Partitioning into training and testing dataset\n",
    "X_Dig_train = X_Dig[0:partition]\n",
    "Y_Dig_train = Y_Dig[0:partition]\n",
    "X_Dig_test  = X_Dig[partition:m]\n",
    "Y_Dig_test  = Y_Dig[partition:m]\n",
    "\n",
    "print(\"X-train : \",X_Dig_train.shape)\n",
    "print(\"Y-train : \",Y_Dig_train.shape)\n",
    "print(\"X-test : \",X_Dig_test.shape)\n",
    "print(\"Y-test : \",Y_Dig_test.shape)"
   ]
  },
  {
   "cell_type": "markdown",
   "metadata": {},
   "source": [
    "# Training NN Model with 0-9 Digits Dataset"
   ]
  },
  {
   "cell_type": "code",
   "execution_count": 24,
   "metadata": {},
   "outputs": [
    {
     "name": "stdout",
     "output_type": "stream",
     "text": [
      "Cost after iteration 0: 6.265930\n",
      "Cost after iteration 1000: 0.421290\n",
      "Cost after iteration 2000: 0.239488\n",
      "Cost after iteration 3000: 0.167173\n",
      "Cost after iteration 4000: 0.130153\n",
      "Cost after iteration 5000: 0.103858\n"
     ]
    }
   ],
   "source": [
    "# Train a model with a n_h number of unit in hidden layer\n",
    "parameters_Dig = nn_model(X_Dig_train, Y_Dig_train, n_h = 32,\n",
    "                          num_iterations = 5000, print_cost=True)"
   ]
  },
  {
   "cell_type": "code",
   "execution_count": 25,
   "metadata": {},
   "outputs": [],
   "source": [
    "# Getting the Predictions of the model on Test Dataset of Digits\n",
    "predictions_Dig = predict(parameters_Dig, X_Dig_test)"
   ]
  },
  {
   "cell_type": "code",
   "execution_count": 26,
   "metadata": {
    "scrolled": true
   },
   "outputs": [
    {
     "name": "stdout",
     "output_type": "stream",
     "text": [
      "True Label:  1\n",
      "Predicted Label:  1\n"
     ]
    },
    {
     "data": {
      "image/png": "[encoded data removed]",
      "text/plain": [
       "<Figure size 432x288 with 1 Axes>"
      ]
     },
     "metadata": {
      "needs_background": "light"
     },
     "output_type": "display_data"
    }
   ],
   "source": [
    "# Checking whether Classified Correctly or not for any random index\n",
    "\n",
    "rand_ind = np.random.randint(X_Dig_test.shape[0])\n",
    "plt.imshow(X_Dig_test[rand_ind].reshape(8,8),cmap=plt.cm.gray_r)\n",
    "print(\"True Label: \",np.argmax(Y_Dig_test[rand_ind]))\n",
    "\n",
    "print(\"Predicted Label: \",predictions_Dig[rand_ind])"
   ]
  },
  {
   "cell_type": "code",
   "execution_count": 27,
   "metadata": {},
   "outputs": [
    {
     "name": "stdout",
     "output_type": "stream",
     "text": [
      "Accuracy for hidden layer of size 32 (TEST_DATA):  89.62962962962962\n",
      "Accuracy for hidden layer of size 32 (TRAIN_DATA):  98.09069212410502\n"
     ]
    }
   ],
   "source": [
    "# Printing accuracy for Train Data and Test Data\n",
    "print(\"Accuracy for hidden layer of size 32 (TEST_DATA): \"\n",
    "      ,Accuracy(predictions_Dig,Y_Dig_test))\n",
    "predictions1_Dig = predict(parameters_Dig, X_Dig_train)\n",
    "print(\"Accuracy for hidden layer of size 32 (TRAIN_DATA): \"\n",
    "      ,Accuracy(predictions1_Dig,Y_Dig_train))"
   ]
  },
  {
   "cell_type": "code",
   "execution_count": 29,
   "metadata": {},
   "outputs": [
    {
     "name": "stdout",
     "output_type": "stream",
     "text": [
      "Accuracy for 1 hidden units: 17.59259259259259 %\n",
      "Accuracy for 4 hidden units: 46.111111111111114 %\n",
      "Accuracy for 10 hidden units: 82.77777777777777 %\n",
      "Accuracy for 20 hidden units: 87.4074074074074 %\n",
      "Accuracy for 30 hidden units: 88.33333333333333 %\n",
      "Accuracy for 40 hidden units: 91.48148148148148 %\n",
      "Accuracy for 50 hidden units: 90.92592592592592 %\n"
     ]
    }
   ],
   "source": [
    "# Trying on different size of hidden layer unit\n",
    "hidden_layer_sizes = [1, 4, 10, 20, 30, 40, 50]\n",
    "for i, n_h in enumerate(hidden_layer_sizes):\n",
    "    parameters = nn_model(X_Dig_train, Y_Dig_train, n_h, num_iterations = 5000)\n",
    "    predictions = predict(parameters, X_Dig_test)\n",
    "    accuracy = Accuracy(predictions,Y_Dig_test)\n",
    "    print (\"Accuracy for {} hidden units: {} %\".format(n_h, accuracy))"
   ]
  },
  {
   "cell_type": "markdown",
   "metadata": {},
   "source": [
    "# Training NN Model with A-Z Alphabets Dataset"
   ]
  },
  {
   "cell_type": "code",
   "execution_count": 30,
   "metadata": {},
   "outputs": [
    {
     "name": "stdout",
     "output_type": "stream",
     "text": [
      "Cost after iteration 0: 19.774114\n",
      "Cost after iteration 1000: 0.533306\n",
      "Cost after iteration 2000: 0.125121\n",
      "Cost after iteration 3000: 0.054537\n",
      "Cost after iteration 4000: 0.034469\n",
      "Cost after iteration 5000: 0.025423\n"
     ]
    }
   ],
   "source": [
    "# Train a model with a n_h number of unit in hidden layer\n",
    "parameters_Alph = nn_model(X_Alph_train, Y_Alph_train, n_h = 256,\n",
    "                           num_iterations = 5000, print_cost=True)"
   ]
  },
  {
   "cell_type": "code",
   "execution_count": 31,
   "metadata": {},
   "outputs": [],
   "source": [
    "# Getting the Predictions of the model on Test Dataset of Alphabets\n",
    "predictions_Alph = predict(parameters_Alph, X_Alph_test)"
   ]
  },
  {
   "cell_type": "code",
   "execution_count": 33,
   "metadata": {},
   "outputs": [
    {
     "name": "stdout",
     "output_type": "stream",
     "text": [
      "True Label:  D\n",
      "Predicted Label:  D\n"
     ]
    },
    {
     "data": {
      "image/png": "[encoded data removed]",
      "text/plain": [
       "<Figure size 432x288 with 1 Axes>"
      ]
     },
     "metadata": {
      "needs_background": "light"
     },
     "output_type": "display_data"
    }
   ],
   "source": [
    "# Checking whether Classified Correctly or not for any random index\n",
    "\n",
    "rand_ind = np.random.randint(X_Alph_test.shape[0])\n",
    "plt.imshow(X_Alph_test[rand_ind].reshape(28,28),cmap=plt.cm.gray_r)\n",
    "print(\"True Label: \",chr(np.argmax(Y_Alph_test[rand_ind])+65))\n",
    "\n",
    "print(\"Predicted Label: \",chr(predictions_Alph[rand_ind]+65))"
   ]
  },
  {
   "cell_type": "markdown",
   "metadata": {},
   "source": [
    "### Reason for this kind of accuracy on test data:\n",
    "1. OverFitting : Since we are getting 100 percent accuracy for train data that means it classified all the input correctly as it was trained , but when done with some variation of data i.e. test data we are getting less accuracy.\n",
    "2. Data Problem: Since the data for train and test data is done with random shuffling ,it may be possible that there are very less number of classes went to train data and remaining are there in test data. So , examples in test data may be new to the model , hence it classifies it wrong."
   ]
  },
  {
   "cell_type": "code",
   "execution_count": 34,
   "metadata": {},
   "outputs": [
    {
     "name": "stdout",
     "output_type": "stream",
     "text": [
      "Accuracy for hidden layer of size 32 (TEST_DATA): : 57.49039692701664\n",
      "Accuracy for hidden layer of size 32 (TRAIN_DATA):: 100.0\n"
     ]
    }
   ],
   "source": [
    "print(\"Accuracy for hidden layer of size 32 (TEST_DATA): :\"\n",
    "      ,Accuracy(predictions_Alph,Y_Alph_test))\n",
    "predictions1_Alph = predict(parameters_Alph, X_Alph_train)\n",
    "print(\"Accuracy for hidden layer of size 32 (TRAIN_DATA)::\"\n",
    "      ,Accuracy(predictions1_Alph,Y_Alph_train))"
   ]
  },
  {
   "cell_type": "markdown",
   "metadata": {},
   "source": [
    "# XOR dataset"
   ]
  },
  {
   "cell_type": "code",
   "execution_count": 36,
   "metadata": {},
   "outputs": [
    {
     "name": "stdout",
     "output_type": "stream",
     "text": [
      "Input Matrix of Shape:  (4, 2)\n",
      "Label Matrix of Shape:  (4, 2)\n"
     ]
    }
   ],
   "source": [
    "# Preparing input and target for XOR\n",
    "X = [[0,0],[0,1],[1,0],[1,1]]\n",
    "Y = [0,1,1,0]\n",
    "# Converting into numpy array\n",
    "X_XOR = np.array(X)\n",
    "Y_XOR = np.array(Y)\n",
    "\n",
    "# Converting into one hpt vector as the model uses softmax function\n",
    "Y_XOR = one_hot(Y_XOR,2)\n",
    "\n",
    "print(\"Input Matrix of Shape: \",X_XOR.shape)\n",
    "print(\"Label Matrix of Shape: \",Y_XOR.shape)"
   ]
  },
  {
   "cell_type": "code",
   "execution_count": 38,
   "metadata": {},
   "outputs": [
    {
     "name": "stdout",
     "output_type": "stream",
     "text": [
      "********** X **********\n",
      "[[0 0]\n",
      " [0 1]\n",
      " [1 0]\n",
      " [1 1]]\n",
      "**** Y one-hot encoded ****\n",
      "[[1. 0.]\n",
      " [0. 1.]\n",
      " [0. 1.]\n",
      " [1. 0.]]\n"
     ]
    }
   ],
   "source": [
    "print(\"********** X **********\")\n",
    "print(X_XOR)\n",
    "print(\"**** Y one-hot encoded ****\")\n",
    "print(Y_XOR)"
   ]
  },
  {
   "cell_type": "markdown",
   "metadata": {},
   "source": [
    "# Training NN Model with Xor Dataset."
   ]
  },
  {
   "cell_type": "markdown",
   "metadata": {},
   "source": [
    "Since Perceptron can not backpropagate because signum function is not differentiable.Hence , using the xor dataset in the model with number of hidden units as 2. "
   ]
  },
  {
   "cell_type": "code",
   "execution_count": 41,
   "metadata": {
    "scrolled": true
   },
   "outputs": [
    {
     "name": "stdout",
     "output_type": "stream",
     "text": [
      "Cost after iteration 0: 0.856916\n",
      "Cost after iteration 1000: 0.691553\n",
      "Cost after iteration 2000: 0.640460\n",
      "Cost after iteration 3000: 0.182156\n",
      "Cost after iteration 4000: 0.050058\n",
      "Cost after iteration 5000: 0.026661\n"
     ]
    }
   ],
   "source": [
    "# Train a model with a n_h number of unit in hidden layer\n",
    "parameters_XOR=nn_model(X_XOR,Y_XOR,n_h=2,\n",
    "                        num_iterations=5000,print_cost=True)"
   ]
  },
  {
   "cell_type": "code",
   "execution_count": 42,
   "metadata": {},
   "outputs": [
    {
     "name": "stdout",
     "output_type": "stream",
     "text": [
      "Predictions:  [0 1 1 0]\n"
     ]
    }
   ],
   "source": [
    "# Getting the Predictions\n",
    "predictions_XOR = predict(parameters_XOR, X_XOR)\n",
    "print(\"Predictions: \",predictions_XOR)"
   ]
  },
  {
   "cell_type": "code",
   "execution_count": 43,
   "metadata": {},
   "outputs": [
    {
     "name": "stdout",
     "output_type": "stream",
     "text": [
      "Accuracy for hidden layer of size 2: : 100.0\n"
     ]
    }
   ],
   "source": [
    "print(\"Accuracy for hidden layer of size 2: :\",\n",
    "      Accuracy(predictions_XOR,Y_XOR))"
   ]
  }
 ],
 "metadata": {
  "kernelspec": {
   "display_name": "Python 3",
   "language": "python",
   "name": "python3"
  },
  "language_info": {
   "codemirror_mode": {
    "name": "ipython",
    "version": 3
   },
   "file_extension": ".py",
   "mimetype": "text/x-python",
   "name": "python",
   "nbconvert_exporter": "python",
   "pygments_lexer": "ipython3",
   "version": "3.7.7"
  }
 },
 "nbformat": 4,
 "nbformat_minor": 4
}
