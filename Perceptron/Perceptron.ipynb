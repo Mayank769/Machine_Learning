{
 "cells": [
  {
   "cell_type": "markdown",
   "metadata": {},
   "source": [
    "# PERCEPTRON"
   ]
  },
  {
   "cell_type": "code",
   "execution_count": 1,
   "metadata": {},
   "outputs": [],
   "source": [
    "# Importing neccessary libraries\n",
    "import numpy as np\n",
    "import matplotlib.pyplot as plt"
   ]
  },
  {
   "cell_type": "code",
   "execution_count": 2,
   "metadata": {},
   "outputs": [],
   "source": [
    "# Predict Function\n",
    "''' Arguments : Weights id 2D vector (1,number of features + 1) --- +1 indicate bias             \n",
    "                Input is 1D vector (number_of_features,) \n",
    "'''\n",
    "def predict(Weights, Input):\n",
    "    # Solving the equation W0 + W1*X1 +W2*X2...number of features\n",
    "    sum = np.dot(Input, Weights[0,1:]) + Weights[0,0]\n",
    "    # Checking the threshold\n",
    "    if sum > 0:\n",
    "        ans = 1\n",
    "    else:\n",
    "        ans = 0            \n",
    "    return ans   "
   ]
  },
  {
   "cell_type": "code",
   "execution_count": 3,
   "metadata": {},
   "outputs": [],
   "source": [
    "# Activation function (signum)\n",
    "# Argument : z is numeric value which is compared with zero\n",
    "def signum(z):\n",
    "    if z < 0:\n",
    "        return 0\n",
    "    else:\n",
    "        return 1"
   ]
  },
  {
   "cell_type": "code",
   "execution_count": 4,
   "metadata": {},
   "outputs": [],
   "source": [
    "# Preceptron Training Function\n",
    "''' Arguments : Input is 2D vector (m,n) where m is number of training example and n is number of features\n",
    "                Label is 1D vector (m,)\n",
    "                lr is Learning rate which is initialised with 0.1\n",
    "'''\n",
    "def Perceptron_Train(Input, Label, lr = 0.1):\n",
    "    m,n = Input.shape\n",
    "    # concatenating 1 to features vector for learning bias\n",
    "    Input = np.hstack((np.ones((m, 1)),Input))\n",
    "    # Initializing Weights with random value of shape (1,n+1) ..+1 is for bias\n",
    "    W = np.random.rand(n+1).reshape((1,n+1))\n",
    "    # Running the loop till we find all correctly classified data \n",
    "    # we can add Fix number of Iteration also \n",
    "    # flag to indentify whether all example are classified correctly or not\n",
    "    # flag = true implies atleast one is there which is misclassified\n",
    "    # flag = false implies all are correctly classified\n",
    "    flag = True\n",
    "    while flag:\n",
    "        flag = False   \n",
    "        # Traversing the Feature vector\n",
    "        for index, x in enumerate(Input):\n",
    "            # If it is misclassified then Update the weights accordingly\n",
    "            if signum( np.dot( x , W.T ) ) != Label[index]: \n",
    "                flag = True\n",
    "                if( Label[index] == 1 ):\n",
    "                    W = W + lr * x  # Added because model is interprating as 0 But Actually it is 1 so to compensate that\n",
    "                else:\n",
    "                    W = W - lr * x  # Subtracted because model is interprating as 1 But Actually it is 0 \n",
    "    return W"
   ]
  },
  {
   "cell_type": "markdown",
   "metadata": {},
   "source": [
    "# For 'OR' input dataset"
   ]
  },
  {
   "cell_type": "code",
   "execution_count": 5,
   "metadata": {},
   "outputs": [],
   "source": [
    "# Preparing input and target for OR\n",
    "X = [[0,0],[0,1],[1,0],[1,1]]\n",
    "Y = [0,1,1,1]\n",
    "# Converting into numpy array\n",
    "Input = np.array(X)\n",
    "Label = np.array(Y)"
   ]
  },
  {
   "cell_type": "code",
   "execution_count": 6,
   "metadata": {},
   "outputs": [
    {
     "name": "stdout",
     "output_type": "stream",
     "text": [
      "Weights For OR as a dataset:- \n",
      "[[-0.02216132  0.35995654  0.3020248 ]]\n"
     ]
    }
   ],
   "source": [
    "# Training perceptron with OR dataset\n",
    "\n",
    "W = Perceptron_Train( Input , Label )\n",
    "print(\"Weights For OR as a dataset:- \")\n",
    "print(W)"
   ]
  },
  {
   "cell_type": "code",
   "execution_count": 7,
   "metadata": {},
   "outputs": [
    {
     "name": "stdout",
     "output_type": "stream",
     "text": [
      "********************** OR ***********************\n",
      "x1 x2  Output\n",
      "0  0   0\n",
      "1  0   1\n",
      "0  1   1\n",
      "1  1   1\n"
     ]
    }
   ],
   "source": [
    "# Checking for OR inputs\n",
    "print(\"********************** OR ***********************\")\n",
    "print(\"x1 x2  Output\")\n",
    "inputs = np.array([0, 0])\n",
    "res = predict(W,inputs)\n",
    "print(\"0  0   {}\".format(res))\n",
    "\n",
    "inputs = np.array([1, 0])\n",
    "res = predict(W,inputs)\n",
    "print(\"1  0   {}\".format(res))\n",
    "\n",
    "inputs = np.array([0, 1])\n",
    "res = predict(W,inputs)\n",
    "print(\"0  1   {}\".format(res))\n",
    "\n",
    "inputs = np.array([1, 1])\n",
    "res = predict(W,inputs)\n",
    "print(\"1  1   {}\".format(res))"
   ]
  },
  {
   "cell_type": "markdown",
   "metadata": {},
   "source": [
    "# For 'AND' input dataset"
   ]
  },
  {
   "cell_type": "code",
   "execution_count": 8,
   "metadata": {},
   "outputs": [],
   "source": [
    "# Preparing input and target for AND\n",
    "X = [[0,0],[0,1],[1,0],[1,1]]\n",
    "Y = [0,0,0,1]\n",
    "# Converting into numpy array\n",
    "Input = np.array(X)\n",
    "Label = np.array(Y)"
   ]
  },
  {
   "cell_type": "code",
   "execution_count": 9,
   "metadata": {},
   "outputs": [
    {
     "name": "stdout",
     "output_type": "stream",
     "text": [
      "Weights For AND as a dataset:- \n",
      "[[-0.42146788  0.23985015  0.24704417]]\n"
     ]
    }
   ],
   "source": [
    "# Training perceptron with AND dataset\n",
    "W = Perceptron_Train( Input,Label )\n",
    "print(\"Weights For AND as a dataset:- \")\n",
    "print(W)"
   ]
  },
  {
   "cell_type": "code",
   "execution_count": 10,
   "metadata": {},
   "outputs": [
    {
     "name": "stdout",
     "output_type": "stream",
     "text": [
      "********************** AND ***********************\n",
      "x1 x2  Output\n",
      "0  0   0\n",
      "1  0   0\n",
      "0  1   0\n",
      "1  1   1\n"
     ]
    }
   ],
   "source": [
    "# Checking for AND inputs\n",
    "print(\"********************** AND ***********************\")\n",
    "\n",
    "print(\"x1 x2  Output\")\n",
    "inputs = np.array([0, 0])\n",
    "res = predict(W,inputs)\n",
    "print(\"0  0   {}\".format(res))\n",
    "\n",
    "inputs = np.array([1, 0])\n",
    "res = predict(W,inputs)\n",
    "print(\"1  0   {}\".format(res))\n",
    "\n",
    "inputs = np.array([0, 1])\n",
    "res = predict(W,inputs)\n",
    "print(\"0  1   {}\".format(res))\n",
    "\n",
    "inputs = np.array([1, 1])\n",
    "res = predict(W,inputs)\n",
    "print(\"1  1   {}\".format(res))"
   ]
  },
  {
   "cell_type": "markdown",
   "metadata": {},
   "source": [
    "# On Iris Dataset (Taking Sepal Length and Sepal Width as its feature and target setosa and versicolor)"
   ]
  },
  {
   "cell_type": "code",
   "execution_count": 11,
   "metadata": {},
   "outputs": [],
   "source": [
    "# Taking dataset from sklearn library\n",
    "from sklearn import datasets\n",
    "data = datasets.load_iris() # Data has four features and 150 training examples and 3 classes each has 50 example\n",
    "X = data.data[0:100,0:2]    # Taking 100 example of two classes and two features\n",
    "Y = data.target[0:100]"
   ]
  },
  {
   "cell_type": "code",
   "execution_count": 12,
   "metadata": {},
   "outputs": [],
   "source": [
    "# Shuffling the dataset\n",
    "m,n = X.shape\n",
    "l = [i for  i in range(0, m)]\n",
    "# Shuffling the Indexes\n",
    "np.random.shuffle(l)\n",
    "# Shuffling the Dataset according to Shuffled indexes\n",
    "X = X[l]\n",
    "Y = Y[l]\n",
    "partition = (int)( 0.7 * m)  # Partition index for dividing into training and testing dataset\n",
    "# Partitioning\n",
    "X_train = X[0:partition]\n",
    "Y_train = Y[0:partition]\n",
    "X_test  = X[partition:m]\n",
    "Y_test  = Y[partition:m]"
   ]
  },
  {
   "cell_type": "code",
   "execution_count": 13,
   "metadata": {},
   "outputs": [
    {
     "data": {
      "image/png": "[encoded data removed]",
      "text/plain": [
       "<Figure size 432x288 with 1 Axes>"
      ]
     },
     "metadata": {
      "needs_background": "light"
     },
     "output_type": "display_data"
    }
   ],
   "source": [
    "# Plotting the data to visualize\n",
    "plt.figure()\n",
    "for index in range(partition):\n",
    "    if Y_train[index] == 0:\n",
    "        plt.scatter(X_train[index,0], X_train[index,1], c = 'm', marker = 'o')\n",
    "    else:\n",
    "        plt.scatter(X_train[index,0], X_train[index,1], c = 'r', marker = 'x')\n",
    "\n",
    "plt.xlabel(\"Sepal length(cm)\")\n",
    "plt.ylabel(\"Sepal Width(cm)\")\n",
    "plt.show()"
   ]
  },
  {
   "cell_type": "code",
   "execution_count": 14,
   "metadata": {},
   "outputs": [
    {
     "name": "stdout",
     "output_type": "stream",
     "text": [
      "Weights For Iris dataset:- \n",
      "[[-11.8675675    7.41962208  -9.39853843]]\n"
     ]
    }
   ],
   "source": [
    "# Training perceptron tp classify Setosa and versicolor\n",
    "W = Perceptron_Train(X_train,Y_train)\n",
    "print(\"Weights For Iris dataset:- \")\n",
    "print(W)"
   ]
  },
  {
   "cell_type": "code",
   "execution_count": 15,
   "metadata": {},
   "outputs": [
    {
     "name": "stdout",
     "output_type": "stream",
     "text": [
      "Accuracy : 1.0\n"
     ]
    }
   ],
   "source": [
    "# Checking the accuracy for remaining test dataset\n",
    "y_pred = []\n",
    "m,n = X_test.shape\n",
    "for i in range(m):\n",
    "    y_pred.append(predict(W,X_test[i]))\n",
    "Diff = y_pred - Y_test\n",
    "c = Diff[Diff == 0]\n",
    "print(\"Accuracy : {}\".format((float)(len(c)/m)))"
   ]
  }
 ],
 "metadata": {
  "kernelspec": {
   "display_name": "Python 3",
   "language": "python",
   "name": "python3"
  },
  "language_info": {
   "codemirror_mode": {
    "name": "ipython",
    "version": 3
   },
   "file_extension": ".py",
   "mimetype": "text/x-python",
   "name": "python",
   "nbconvert_exporter": "python",
   "pygments_lexer": "ipython3",
   "version": "3.7.7"
  }
 },
 "nbformat": 4,
 "nbformat_minor": 2
}
